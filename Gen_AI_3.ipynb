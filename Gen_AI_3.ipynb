{
  "nbformat": 4,
  "nbformat_minor": 0,
  "metadata": {
    "colab": {
      "provenance": [],
      "authorship_tag": "ABX9TyOYVWzJ0j3g6GbHA4aZcRLw",
      "include_colab_link": true
    },
    "kernelspec": {
      "name": "python3",
      "display_name": "Python 3"
    },
    "language_info": {
      "name": "python"
    }
  },
  "cells": [
    {
      "cell_type": "markdown",
      "metadata": {
        "id": "view-in-github",
        "colab_type": "text"
      },
      "source": [
        "<a href=\"https://colab.research.google.com/github/2303A52126/Generative_AI_2025/blob/main/Gen_AI_3.ipynb\" target=\"_parent\"><img src=\"https://colab.research.google.com/assets/colab-badge.svg\" alt=\"Open In Colab\"/></a>"
      ]
    },
    {
      "cell_type": "markdown",
      "source": [
        "Write Python code without using any libraries to find the value of x at which the function f(x) shown in equation (1) has minimum value. Consider Gradient Descent Algorithm. f (x) = 5x4 + 3x2 + 10"
      ],
      "metadata": {
        "id": "qVIueLNn15z-"
      }
    },
    {
      "cell_type": "code",
      "execution_count": 1,
      "metadata": {
        "colab": {
          "base_uri": "https://localhost:8080/"
        },
        "id": "AzQYeLMH1y3B",
        "outputId": "cf01a096-89cf-4722-ca16-a1c77abf6465"
      },
      "outputs": [
        {
          "output_type": "stream",
          "name": "stdout",
          "text": [
            "The value of x that minimizes f(x): 0.0\n"
          ]
        }
      ],
      "source": [
        "def find_minimum():\n",
        "    x = 0.0\n",
        "    learning_rate = 0.01\n",
        "    max_steps = 1000\n",
        "    tolerance = 1e-6\n",
        "\n",
        "    for _ in range(max_steps):\n",
        "\n",
        "        gradient = 20 * x**3 + 6 * x\n",
        "        x_new = x - learning_rate * gradient\n",
        "\n",
        "        if abs(x_new - x) < tolerance:\n",
        "            break\n",
        "\n",
        "\n",
        "        x = x_new\n",
        "\n",
        "    return x\n",
        "\n",
        "\n",
        "minimum_x = find_minimum()\n",
        "print(\"The value of x that minimizes f(x):\", minimum_x)"
      ]
    },
    {
      "cell_type": "markdown",
      "source": [
        "Write Python code without using any libraries to find the value of x and y at which the function g(x,y) shown in equation (2) has minimum value. Consider Gradient Descent Algorithm. f (x) = 3x2 + 5e−y + 10"
      ],
      "metadata": {
        "id": "jzdlsOSF2BJ0"
      }
    },
    {
      "cell_type": "code",
      "source": [
        "def gradient_descent_xy(learning_rate=0.01, max_steps=1000, tolerance=1e-6):\n",
        "    x, y = 0.0, 0.0\n",
        "\n",
        "    for _ in range(max_steps):\n",
        "\n",
        "        grad_x = 6 * x\n",
        "        grad_y = -5 * (2.71828**(-y))\n",
        "\n",
        "\n",
        "        new_x = x - learning_rate * grad_x\n",
        "        new_y = y - learning_rate * grad_y\n",
        "\n",
        "        if abs(new_x - x) < tolerance and abs(new_y - y) < tolerance:\n",
        "            break\n",
        "\n",
        "        x, y = new_x, new_y\n",
        "\n",
        "    return x, y\n",
        "\n",
        "x_min, y_min = gradient_descent_xy()\n",
        "print(\"The values of x and y that minimize g(x, y):\")\n",
        "print(\"x =\", x_min)\n",
        "print(\"y =\", y_min)"
      ],
      "metadata": {
        "colab": {
          "base_uri": "https://localhost:8080/"
        },
        "id": "YQT0Hzoc2CNU",
        "outputId": "4009becb-91f1-41aa-ad49-7b07267dc172"
      },
      "execution_count": 2,
      "outputs": [
        {
          "output_type": "stream",
          "name": "stdout",
          "text": [
            "The values of x and y that minimize g(x, y):\n",
            "x = 0.0\n",
            "y = 3.933762227862872\n"
          ]
        }
      ]
    },
    {
      "cell_type": "markdown",
      "source": [
        "Write Python code without using any libraries to find the value of x at which the sigmoid function z(x) shown in equation (3) has minimum value. Consider Gradient Descent Algorithm. z(x) = 1 1 + e−x"
      ],
      "metadata": {
        "id": "YtWmSrvY2I86"
      }
    },
    {
      "cell_type": "code",
      "source": [
        "def gradient_descent_sigmoid(learning_rate=0.01, max_iters=1000, tolerance=1e-6):\n",
        "    x = 0.0\n",
        "    for _ in range(max_iters):\n",
        "        sigmoid = 1 / (1 + 2.71828**-x)\n",
        "        gradient = sigmoid * (1 - sigmoid)\n",
        "        new_x = x - learning_rate * gradient\n",
        "        if abs(new_x - x) < tolerance:  # Convergence condition\n",
        "            break\n",
        "        x = new_x\n",
        "    return x\n",
        "\n",
        "x_min = gradient_descent_sigmoid()\n",
        "print(\"Minimum value of x:\", x_min)\n",
        ""
      ],
      "metadata": {
        "colab": {
          "base_uri": "https://localhost:8080/"
        },
        "id": "2hu3scrS2MYR",
        "outputId": "f9276d0f-2b6a-4ab6-9f5e-3f7c56f4ce07"
      },
      "execution_count": 3,
      "outputs": [
        {
          "output_type": "stream",
          "name": "stdout",
          "text": [
            "Minimum value of x: -1.8618359316575634\n"
          ]
        }
      ]
    },
    {
      "cell_type": "markdown",
      "source": [
        "Write Python code without using any libraries to find the value of optimal values of model parameters M and C such that the model’s Square Error Value shown in equation 4 will be minimum. It means model gives output close to expected output as shown in Figure 1 Figura 1: AI Model SE = (ExpectedOutput − P redictedOutput)2 (4) • Expected Leaning Outcomes from this assignment related to python – Students are able to understand gradient descent algorithm to solve both single and multi variable unconstrained non linear optimization problems – Students are able to write code in python for gradient descent algorithm • Naming cinvention – Report File Name: RollNo_Week No._Assignment No. Date: 2025-01-09 ©Dr. Venkataramana Veeramsetty, Professor Pag. 1 de 1"
      ],
      "metadata": {
        "id": "9YLLAnHa2P6X"
      }
    },
    {
      "cell_type": "code",
      "source": [
        "def gradient_descent_model(data, learning_rate=0.01, max_iters=1000, tolerance=1e-6):\n",
        "    M, C = 0.0, 0.0\n",
        "    for _ in range(max_iters):\n",
        "        grad_M = grad_C = 0.0\n",
        "\n",
        "        for x, y in data:\n",
        "            predicted = M * x + C\n",
        "            error = predicted - y\n",
        "\n",
        "            grad_M += 2 * error * x\n",
        "            grad_C += 2 * error\n",
        "\n",
        "        grad_M /= len(data)\n",
        "        grad_C /= len(data)\n",
        "\n",
        "        new_M = M - learning_rate * grad_M\n",
        "        new_C = C - learning_rate * grad_C\n",
        "\n",
        "        if abs(new_M - M) < tolerance and abs(new_C - C) < tolerance:\n",
        "            break\n",
        "\n",
        "        M, C = new_M, new_C\n",
        "\n",
        "    return M, C\n",
        "\n",
        "data = [(1, 2), (2, 4), (3, 6), (4, 8)]\n",
        "optimal_M, optimal_C = gradient_descent_model(data)\n",
        "print(\"Optimal M and C:\", optimal_M, optimal_C)"
      ],
      "metadata": {
        "colab": {
          "base_uri": "https://localhost:8080/"
        },
        "id": "FSlV2whM2Q6E",
        "outputId": "c7b7e4f2-84ac-453e-ccad-1acedc1cb93e"
      },
      "execution_count": 4,
      "outputs": [
        {
          "output_type": "stream",
          "name": "stdout",
          "text": [
            "Optimal M and C: 1.9896587550255742 0.030404521305361965\n"
          ]
        }
      ]
    }
  ]
}